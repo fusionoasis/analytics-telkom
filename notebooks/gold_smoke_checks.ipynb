{
 "cells": [
  {
   "cell_type": "markdown",
   "id": "3b07eb91",
   "metadata": {},
   "source": [
    "# Gold Layer Smoke Checks\n",
    "This notebook validates tower_key propagation from Silver to Gold and basic row presence."
   ]
  },
  {
   "cell_type": "code",
   "execution_count": null,
   "id": "c060bf0e",
   "metadata": {},
   "outputs": [],
   "source": [
    "# Setup\n",
    "catalog = 'telkom_analytics'\n",
    "spark.sql(f'USE CATALOG {catalog}')"
   ]
  },
  {
   "cell_type": "markdown",
   "id": "44d1ffe8",
   "metadata": {},
   "source": [
    "## 1) Silver: Verify tower_sk presence in source tables"
   ]
  },
  {
   "cell_type": "code",
   "execution_count": null,
   "id": "63cb9c9c",
   "metadata": {},
   "outputs": [],
   "source": [
    "def has_col(table, col_name):\n",
    "    try:\n",
    "        return col_name in spark.table(f'{catalog}.{table}').columns\n",
    "    except Exception:\n",
    "        return False\n",
    "tables = ['customer_usage','customer_feedback','voice_transcriptions','load_shedding_schedules']\n",
    "{t: has_col(t, 'tower_sk') for t in tables}"
   ]
  },
  {
   "cell_type": "markdown",
   "id": "5b80f3fb",
   "metadata": {},
   "source": [
    "## 2) Gold: Check tower_key exists and has non-null rows"
   ]
  },
  {
   "cell_type": "code",
   "execution_count": null,
   "id": "d742207b",
   "metadata": {},
   "outputs": [],
   "source": [
    "gold_tables = [\n",
    "  'fact_customer_usage',\n",
    "  'fact_customer_feedback',\n",
    "  'fact_maintenance_activity',\n",
    "  'fact_network_performance'\n",
    "]\n",
    "results = {}\n",
    "for t in gold_tables:\n",
    "    try:\n",
    "        df = spark.table(f'{catalog}.{t}')\n",
    "        results[t] = {\n",
    "            'has_tower_key': 'tower_key' in df.columns,\n",
    "            'non_null_tower_key_rows': df.filter('tower_key IS NOT NULL').limit(1).count()\n",
    "        }\n",
    "    except Exception as e:\n",
    "        results[t] = {'error': str(e)}\n",
    "results"
   ]
  },
  {
   "cell_type": "markdown",
   "id": "514604c8",
   "metadata": {},
   "source": [
    "## 3) Join consistency: tower_key -> dim_tower"
   ]
  },
  {
   "cell_type": "code",
   "execution_count": null,
   "id": "c7d17b9b",
   "metadata": {},
   "outputs": [],
   "source": [
    "try:\n",
    "    fcu = spark.table(f'{catalog}.fact_customer_usage')\n",
    "    dt = spark.table(f'{catalog}.dim_tower').filter('is_current = true')\n",
    "    cnt = fcu.join(dt, 'tower_key', 'inner').limit(1).count()\n",
    "    {'join_ok': cnt > 0}\n",
    "except Exception as e:\n",
    "    {'error': str(e)}"
   ]
  },
  {
   "cell_type": "markdown",
   "id": "080c3d25",
   "metadata": {},
   "source": [
    "## 4) New aggregate: agg_hourly_usage_by_tower row count"
   ]
  },
  {
   "cell_type": "code",
   "execution_count": null,
   "id": "93e61c8e",
   "metadata": {},
   "outputs": [],
   "source": [
    "try:\n",
    "    cnt = spark.table(f'{catalog}.agg_hourly_usage_by_tower').count()\n",
    "    {'row_count': cnt}\n",
    "except Exception as e:\n",
    "    {'error': str(e)}"
   ]
  }
 ],
 "metadata": {
  "language_info": {
   "name": "python"
  }
 },
 "nbformat": 4,
 "nbformat_minor": 5
}
